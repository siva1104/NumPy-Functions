{
  "nbformat": 4,
  "nbformat_minor": 0,
  "metadata": {
    "colab": {
      "name": "20% of NumPy Functions that Data Scientists use 80% of the Time",
      "provenance": []
    },
    "kernelspec": {
      "name": "python3",
      "display_name": "Python 3"
    },
    "language_info": {
      "name": "python"
    },
    "gpuClass": "standard"
  },
  "cells": [
    {
      "cell_type": "code",
      "execution_count": 54,
      "metadata": {
        "id": "FFw7WEUg6B4f"
      },
      "outputs": [],
      "source": [
        "import pandas as pd\n",
        "import numpy as np"
      ]
    },
    {
      "cell_type": "markdown",
      "source": [
        "**1:** Create a NumPy array from a python list\n"
      ],
      "metadata": {
        "id": "OhuOwxiV_Sti"
      }
    },
    {
      "cell_type": "code",
      "source": [
        "a = [1,2,3]\n",
        "np.array(a)"
      ],
      "metadata": {
        "id": "54nT9I7e7D8C",
        "colab": {
          "base_uri": "https://localhost:8080/"
        },
        "outputId": "a5cff999-b9b4-4b5c-8c44-13359af164cb"
      },
      "execution_count": 55,
      "outputs": [
        {
          "output_type": "execute_result",
          "data": {
            "text/plain": [
              "array([1, 2, 3])"
            ]
          },
          "metadata": {},
          "execution_count": 55
        }
      ]
    },
    {
      "cell_type": "code",
      "source": [
        "type(np.array(a)) # type of an array"
      ],
      "metadata": {
        "colab": {
          "base_uri": "https://localhost:8080/"
        },
        "id": "_L2D_vJM_MUJ",
        "outputId": "8c01fd49-3ced-4c16-a70d-3b1e281b3255"
      },
      "execution_count": 56,
      "outputs": [
        {
          "output_type": "execute_result",
          "data": {
            "text/plain": [
              "numpy.ndarray"
            ]
          },
          "metadata": {},
          "execution_count": 56
        }
      ]
    },
    {
      "cell_type": "code",
      "source": [
        "b = [[1,2,3],[4,5,6]]          #2D array\n",
        "np.array(b, dtype=np.float32)           "
      ],
      "metadata": {
        "colab": {
          "base_uri": "https://localhost:8080/"
        },
        "id": "Kb3_OBqR_MZi",
        "outputId": "b3d5048f-1cfc-4103-af72-e2068858191f"
      },
      "execution_count": 57,
      "outputs": [
        {
          "output_type": "execute_result",
          "data": {
            "text/plain": [
              "array([[1., 2., 3.],\n",
              "       [4., 5., 6.]], dtype=float32)"
            ]
          },
          "metadata": {},
          "execution_count": 57
        }
      ]
    },
    {
      "cell_type": "code",
      "source": [
        "type(np.array(b))"
      ],
      "metadata": {
        "colab": {
          "base_uri": "https://localhost:8080/"
        },
        "id": "6_S3XKyV_May",
        "outputId": "d3e3a75c-dc30-4cb2-ead6-684973bef76a"
      },
      "execution_count": 58,
      "outputs": [
        {
          "output_type": "execute_result",
          "data": {
            "text/plain": [
              "numpy.ndarray"
            ]
          },
          "metadata": {},
          "execution_count": 58
        }
      ]
    },
    {
      "cell_type": "markdown",
      "source": [
        "**2:** Create a NumPy array of Zeros"
      ],
      "metadata": {
        "id": "s5MDocurAcUC"
      }
    },
    {
      "cell_type": "code",
      "source": [
        "np.zeros(10)"
      ],
      "metadata": {
        "colab": {
          "base_uri": "https://localhost:8080/"
        },
        "id": "C1Wh1jOo_Mes",
        "outputId": "17d02c47-b58e-493b-80dd-6981f2b79273"
      },
      "execution_count": 59,
      "outputs": [
        {
          "output_type": "execute_result",
          "data": {
            "text/plain": [
              "array([0., 0., 0., 0., 0., 0., 0., 0., 0., 0.])"
            ]
          },
          "metadata": {},
          "execution_count": 59
        }
      ]
    },
    {
      "cell_type": "code",
      "source": [
        "np.zeros((3,3))   # for multidimensional array"
      ],
      "metadata": {
        "colab": {
          "base_uri": "https://localhost:8080/"
        },
        "id": "JFKeZjAx_Mh9",
        "outputId": "b1914cc7-4562-4bd2-dd37-2812f349f0fe"
      },
      "execution_count": 60,
      "outputs": [
        {
          "output_type": "execute_result",
          "data": {
            "text/plain": [
              "array([[0., 0., 0.],\n",
              "       [0., 0., 0.],\n",
              "       [0., 0., 0.]])"
            ]
          },
          "metadata": {},
          "execution_count": 60
        }
      ]
    },
    {
      "cell_type": "code",
      "source": [
        "np.ones((4,4))   # a NumPy array of Ones"
      ],
      "metadata": {
        "colab": {
          "base_uri": "https://localhost:8080/"
        },
        "id": "CtZdgeL__MkN",
        "outputId": "f60b5cd1-f1f3-4077-9cfd-95eb1d253068"
      },
      "execution_count": 61,
      "outputs": [
        {
          "output_type": "execute_result",
          "data": {
            "text/plain": [
              "array([[1., 1., 1., 1.],\n",
              "       [1., 1., 1., 1.],\n",
              "       [1., 1., 1., 1.],\n",
              "       [1., 1., 1., 1.]])"
            ]
          },
          "metadata": {},
          "execution_count": 61
        }
      ]
    },
    {
      "cell_type": "code",
      "source": [
        "np.eye(3) # an Identity Numpy Array"
      ],
      "metadata": {
        "colab": {
          "base_uri": "https://localhost:8080/"
        },
        "id": "GTc2zpQ3_Mmq",
        "outputId": "f00d0568-2c44-4633-a8ef-ad65a8086eac"
      },
      "execution_count": 62,
      "outputs": [
        {
          "output_type": "execute_result",
          "data": {
            "text/plain": [
              "array([[1., 0., 0.],\n",
              "       [0., 1., 0.],\n",
              "       [0., 0., 1.]])"
            ]
          },
          "metadata": {},
          "execution_count": 62
        }
      ]
    },
    {
      "cell_type": "code",
      "source": [
        "np.arange(10,100,2)  #an equally spaced Numpy Array with a specific step\n",
        "# np.arange(start , stop, step) "
      ],
      "metadata": {
        "colab": {
          "base_uri": "https://localhost:8080/"
        },
        "id": "so7cjCpl_MoO",
        "outputId": "056362c9-ee92-456e-fffb-37cca7f1cab1"
      },
      "execution_count": 63,
      "outputs": [
        {
          "output_type": "execute_result",
          "data": {
            "text/plain": [
              "array([10, 12, 14, 16, 18, 20, 22, 24, 26, 28, 30, 32, 34, 36, 38, 40, 42,\n",
              "       44, 46, 48, 50, 52, 54, 56, 58, 60, 62, 64, 66, 68, 70, 72, 74, 76,\n",
              "       78, 80, 82, 84, 86, 88, 90, 92, 94, 96, 98])"
            ]
          },
          "metadata": {},
          "execution_count": 63
        }
      ]
    },
    {
      "cell_type": "code",
      "source": [
        "# Generate values from start=5to stop=11 with step=1:\n",
        "np.arange(5,11,2)"
      ],
      "metadata": {
        "colab": {
          "base_uri": "https://localhost:8080/"
        },
        "id": "Apyf1zlM_MrQ",
        "outputId": "4b9f4754-fba7-430c-be76-b2d9d3d69b33"
      },
      "execution_count": 64,
      "outputs": [
        {
          "output_type": "execute_result",
          "data": {
            "text/plain": [
              "array([5, 7, 9])"
            ]
          },
          "metadata": {},
          "execution_count": 64
        }
      ]
    },
    {
      "cell_type": "code",
      "source": [
        "np.linspace(10,100,20)  #  Create an equally spaced Numpy Array with a specific array size"
      ],
      "metadata": {
        "colab": {
          "base_uri": "https://localhost:8080/"
        },
        "id": "FWRWo27v_MuO",
        "outputId": "8e1baaf8-6ece-4c95-db6f-e3457763429b"
      },
      "execution_count": 65,
      "outputs": [
        {
          "output_type": "execute_result",
          "data": {
            "text/plain": [
              "array([ 10.        ,  14.73684211,  19.47368421,  24.21052632,\n",
              "        28.94736842,  33.68421053,  38.42105263,  43.15789474,\n",
              "        47.89473684,  52.63157895,  57.36842105,  62.10526316,\n",
              "        66.84210526,  71.57894737,  76.31578947,  81.05263158,\n",
              "        85.78947368,  90.52631579,  95.26315789, 100.        ])"
            ]
          },
          "metadata": {},
          "execution_count": 65
        }
      ]
    },
    {
      "cell_type": "markdown",
      "source": [
        "\n",
        "\n",
        "Generate a random numpy array\n",
        "\n"
      ],
      "metadata": {
        "id": "imWKqB4fCU2m"
      }
    },
    {
      "cell_type": "code",
      "source": [
        "np.random.randint(10,25,5)  # generate a random array of integers\n",
        "# np.random.randint(low,high,size)"
      ],
      "metadata": {
        "colab": {
          "base_uri": "https://localhost:8080/"
        },
        "id": "TyFFYos3CUd9",
        "outputId": "dd4ff2ae-0948-4f25-8195-9643a28d1049"
      },
      "execution_count": 66,
      "outputs": [
        {
          "output_type": "execute_result",
          "data": {
            "text/plain": [
              "array([17, 24, 14, 22, 10])"
            ]
          },
          "metadata": {},
          "execution_count": 66
        }
      ]
    },
    {
      "cell_type": "code",
      "source": [
        "np.random.random(10)  #  generate random float samples"
      ],
      "metadata": {
        "id": "X3JP7Vwb7D_2",
        "colab": {
          "base_uri": "https://localhost:8080/"
        },
        "outputId": "3a0e4bbd-1693-4421-d71e-7027a201add9"
      },
      "execution_count": 67,
      "outputs": [
        {
          "output_type": "execute_result",
          "data": {
            "text/plain": [
              "array([0.02277792, 0.86359183, 0.5356564 , 0.19703331, 0.98683473,\n",
              "       0.11752203, 0.52596449, 0.0872552 , 0.5149489 , 0.53957169])"
            ]
          },
          "metadata": {},
          "execution_count": 67
        }
      ]
    },
    {
      "cell_type": "markdown",
      "source": [
        "**8:** *Generate NumPy Array from a Pandas Series*\n"
      ],
      "metadata": {
        "id": "_G-7nnO8C_nX"
      }
    },
    {
      "cell_type": "code",
      "source": [
        "s = pd.Series([1,2,3,4], name = \"col\")\n",
        "#np.array(s)\n",
        "np.asarray(s)"
      ],
      "metadata": {
        "colab": {
          "base_uri": "https://localhost:8080/"
        },
        "id": "-eAP7fUwC1h1",
        "outputId": "88843cf3-f1b8-4b2c-d851-21472adef134"
      },
      "execution_count": 68,
      "outputs": [
        {
          "output_type": "execute_result",
          "data": {
            "text/plain": [
              "array([1, 2, 3, 4])"
            ]
          },
          "metadata": {},
          "execution_count": 68
        }
      ]
    },
    {
      "cell_type": "markdown",
      "source": [
        "***NumPy Array Manipulation Methods***\n",
        "\n",
        "---"
      ],
      "metadata": {
        "id": "rrq3wpOuDbz7"
      }
    },
    {
      "cell_type": "code",
      "source": [
        "# 1: Shape of the NumPy Array\n",
        "a = np.ones((5, 6))\n",
        "np.shape(a)\n",
        "#a.shape"
      ],
      "metadata": {
        "colab": {
          "base_uri": "https://localhost:8080/"
        },
        "id": "GvSWwNphC1kv",
        "outputId": "58d85462-750a-461c-d29f-4ba292be61f4"
      },
      "execution_count": 69,
      "outputs": [
        {
          "output_type": "execute_result",
          "data": {
            "text/plain": [
              "(5, 6)"
            ]
          },
          "metadata": {},
          "execution_count": 69
        }
      ]
    },
    {
      "cell_type": "code",
      "source": [
        "b = np.arange(12)   # Reshape the NumPy Array\n",
        "b.reshape((6,2))"
      ],
      "metadata": {
        "colab": {
          "base_uri": "https://localhost:8080/"
        },
        "id": "SkC2u1rDC1n8",
        "outputId": "5fdf2e65-be31-4dbe-f7c9-2378faa7598e"
      },
      "execution_count": 70,
      "outputs": [
        {
          "output_type": "execute_result",
          "data": {
            "text/plain": [
              "array([[ 0,  1],\n",
              "       [ 2,  3],\n",
              "       [ 4,  5],\n",
              "       [ 6,  7],\n",
              "       [ 8,  9],\n",
              "       [10, 11]])"
            ]
          },
          "metadata": {},
          "execution_count": 70
        }
      ]
    },
    {
      "cell_type": "code",
      "source": [
        "a = np.arange(20).reshape((10, 2))   # Transpose the NumPy Array\n",
        "#a.transpose()\n",
        "a.T"
      ],
      "metadata": {
        "colab": {
          "base_uri": "https://localhost:8080/"
        },
        "id": "ftW-_ID1C1qT",
        "outputId": "d54611d1-6639-4bd8-8589-bc4af76c9d4f"
      },
      "execution_count": 71,
      "outputs": [
        {
          "output_type": "execute_result",
          "data": {
            "text/plain": [
              "array([[ 0,  2,  4,  6,  8, 10, 12, 14, 16, 18],\n",
              "       [ 1,  3,  5,  7,  9, 11, 13, 15, 17, 19]])"
            ]
          },
          "metadata": {},
          "execution_count": 71
        }
      ]
    },
    {
      "cell_type": "code",
      "source": [
        "# Concatenate multiple NumPy arrays to form one NumPy Array\n",
        "a = np.array([[1, 2], [3, 4]])\n",
        "b = np.array([[5, 6],[7,8]])\n",
        "np.concatenate((a, b), axis=0)"
      ],
      "metadata": {
        "colab": {
          "base_uri": "https://localhost:8080/"
        },
        "id": "HqssCW_YC1tc",
        "outputId": "8a3ad35e-7756-4dfa-9024-5eb984e1932d"
      },
      "execution_count": 72,
      "outputs": [
        {
          "output_type": "execute_result",
          "data": {
            "text/plain": [
              "array([[1, 2],\n",
              "       [3, 4],\n",
              "       [5, 6],\n",
              "       [7, 8]])"
            ]
          },
          "metadata": {},
          "execution_count": 72
        }
      ]
    },
    {
      "cell_type": "code",
      "source": [
        "np.concatenate((a.T, b), axis=0)"
      ],
      "metadata": {
        "colab": {
          "base_uri": "https://localhost:8080/"
        },
        "id": "DZ-VZwKWC1xk",
        "outputId": "1cf35a0f-657d-4456-e7ae-0d02e7278375"
      },
      "execution_count": 73,
      "outputs": [
        {
          "output_type": "execute_result",
          "data": {
            "text/plain": [
              "array([[1, 3],\n",
              "       [2, 4],\n",
              "       [5, 6],\n",
              "       [7, 8]])"
            ]
          },
          "metadata": {},
          "execution_count": 73
        }
      ]
    },
    {
      "cell_type": "code",
      "source": [
        "np.concatenate((a, b.T), axis=0)"
      ],
      "metadata": {
        "colab": {
          "base_uri": "https://localhost:8080/"
        },
        "id": "ew-HXQ0CC1z9",
        "outputId": "4483b453-c5b8-44a4-c8c3-c32b3d6d746b"
      },
      "execution_count": 74,
      "outputs": [
        {
          "output_type": "execute_result",
          "data": {
            "text/plain": [
              "array([[1, 2],\n",
              "       [3, 4],\n",
              "       [5, 7],\n",
              "       [6, 8]])"
            ]
          },
          "metadata": {},
          "execution_count": 74
        }
      ]
    },
    {
      "cell_type": "code",
      "source": [
        "np.concatenate((a, b), axis=1)  ## Concatenate Column-wise"
      ],
      "metadata": {
        "colab": {
          "base_uri": "https://localhost:8080/"
        },
        "id": "ewFXKBBCFx6O",
        "outputId": "34cc7d38-18c8-4e54-85e5-56fee94b79bb"
      },
      "execution_count": 75,
      "outputs": [
        {
          "output_type": "execute_result",
          "data": {
            "text/plain": [
              "array([[1, 2, 5, 6],\n",
              "       [3, 4, 7, 8]])"
            ]
          },
          "metadata": {},
          "execution_count": 75
        }
      ]
    },
    {
      "cell_type": "code",
      "source": [
        "np.concatenate((a, b), axis=None) # Concatenate to generate a flat NumPy Array"
      ],
      "metadata": {
        "colab": {
          "base_uri": "https://localhost:8080/"
        },
        "id": "1s1YDpCIFyAZ",
        "outputId": "f0d354f4-7faf-4ed2-fbd4-a92226798754"
      },
      "execution_count": 76,
      "outputs": [
        {
          "output_type": "execute_result",
          "data": {
            "text/plain": [
              "array([1, 2, 3, 4, 5, 6, 7, 8])"
            ]
          },
          "metadata": {},
          "execution_count": 76
        }
      ]
    },
    {
      "cell_type": "markdown",
      "source": [
        "axis=0 is same as np.vstack()\n",
        "\n",
        "axis=1 is same as np.hstack()\n",
        "\n",
        "\n"
      ],
      "metadata": {
        "id": "zpK1SeE5GF4_"
      }
    },
    {
      "cell_type": "code",
      "source": [
        "a.flatten()  #  Flatten NumPy Array"
      ],
      "metadata": {
        "colab": {
          "base_uri": "https://localhost:8080/"
        },
        "id": "CUnslJb8F8q_",
        "outputId": "ee4b3d41-675d-4d05-de0e-244af19522ab"
      },
      "execution_count": 77,
      "outputs": [
        {
          "output_type": "execute_result",
          "data": {
            "text/plain": [
              "array([1, 2, 3, 4])"
            ]
          },
          "metadata": {},
          "execution_count": 77
        }
      ]
    },
    {
      "cell_type": "code",
      "source": [
        "# Unique Elements of a NumPy Array\n",
        "a = np.array([[1, 2], [2, 3],[3,4]])\n",
        "np.unique(a)"
      ],
      "metadata": {
        "colab": {
          "base_uri": "https://localhost:8080/"
        },
        "id": "xIXEYDliFyCw",
        "outputId": "08be991c-6b77-4529-98dc-9c0a0d547564"
      },
      "execution_count": 78,
      "outputs": [
        {
          "output_type": "execute_result",
          "data": {
            "text/plain": [
              "array([1, 2, 3, 4])"
            ]
          },
          "metadata": {},
          "execution_count": 78
        }
      ]
    },
    {
      "cell_type": "code",
      "source": [
        "## Return Unique Rows\n",
        "\n",
        "a = np.array([[1, 2, 3], [1, 2, 3], [2, 3, 4]])\n",
        "np.unique(a, axis=0)"
      ],
      "metadata": {
        "colab": {
          "base_uri": "https://localhost:8080/"
        },
        "id": "YOTPa2I4FyEa",
        "outputId": "c7a72951-de0f-42ca-8c36-1f6f627bad30"
      },
      "execution_count": 79,
      "outputs": [
        {
          "output_type": "execute_result",
          "data": {
            "text/plain": [
              "array([[1, 2, 3],\n",
              "       [2, 3, 4]])"
            ]
          },
          "metadata": {},
          "execution_count": 79
        }
      ]
    },
    {
      "cell_type": "code",
      "source": [
        "## Return Unique Columns\n",
        "a = np.array([[1, 1, 3], [2, 1, 3], [7, 5, 4]])\n",
        "np.unique(a,axis=0)"
      ],
      "metadata": {
        "colab": {
          "base_uri": "https://localhost:8080/"
        },
        "id": "7weoqezBFyG6",
        "outputId": "8067db23-6721-4d49-9b4c-2892beaa43f7"
      },
      "execution_count": 81,
      "outputs": [
        {
          "output_type": "execute_result",
          "data": {
            "text/plain": [
              "array([[1, 1, 3],\n",
              "       [2, 1, 3],\n",
              "       [7, 5, 4]])"
            ]
          },
          "metadata": {},
          "execution_count": 81
        }
      ]
    },
    {
      "cell_type": "code",
      "source": [
        "# Squeeze a NumPy Array\n",
        "x = np.array([[[0], [1], [2]]])\n",
        "x.shape"
      ],
      "metadata": {
        "colab": {
          "base_uri": "https://localhost:8080/"
        },
        "id": "oguHEa5JFyLQ",
        "outputId": "66a4d98b-7713-4064-bff6-b4e4fbe39adb"
      },
      "execution_count": 82,
      "outputs": [
        {
          "output_type": "execute_result",
          "data": {
            "text/plain": [
              "(1, 3, 1)"
            ]
          },
          "metadata": {},
          "execution_count": 82
        }
      ]
    },
    {
      "cell_type": "code",
      "source": [
        "np.squeeze(x).shape"
      ],
      "metadata": {
        "colab": {
          "base_uri": "https://localhost:8080/"
        },
        "id": "PaGNx2CtIGpZ",
        "outputId": "c9fc0cb2-c541-42af-c447-aa160b5d2370"
      },
      "execution_count": 83,
      "outputs": [
        {
          "output_type": "execute_result",
          "data": {
            "text/plain": [
              "(3,)"
            ]
          },
          "metadata": {},
          "execution_count": 83
        }
      ]
    },
    {
      "cell_type": "code",
      "source": [
        "# Transform NumPy Array to Python List\n",
        "a = np.array([[1, 10, 3], [9, 1, 3], [1, 1, 4]])\n",
        "a.tolist()"
      ],
      "metadata": {
        "colab": {
          "base_uri": "https://localhost:8080/"
        },
        "id": "2EGJU-2NIGsx",
        "outputId": "7a75adc5-ea4b-4d8e-938f-d81cb2a7c1bf"
      },
      "execution_count": 84,
      "outputs": [
        {
          "output_type": "execute_result",
          "data": {
            "text/plain": [
              "[[1, 10, 3], [9, 1, 3], [1, 1, 4]]"
            ]
          },
          "metadata": {},
          "execution_count": 84
        }
      ]
    },
    {
      "cell_type": "markdown",
      "source": [
        "***Mathematical Operations on NumPy Arrays***"
      ],
      "metadata": {
        "id": "pNL_y4NMIxfl"
      }
    },
    {
      "cell_type": "code",
      "source": [
        "a = np.array([1,2,3])\n",
        "print(\"Trigonometric Sine   :\", np.sin(a))\n",
        "print(\"Trigonometric Cosine :\", np.cos(a))\n",
        "print(\"Trigonometric Tangent:\", np.tan(a))"
      ],
      "metadata": {
        "colab": {
          "base_uri": "https://localhost:8080/"
        },
        "id": "15rPJtQcIGws",
        "outputId": "bcb85013-52e4-4ba0-f74b-8f7973eab361"
      },
      "execution_count": 85,
      "outputs": [
        {
          "output_type": "stream",
          "name": "stdout",
          "text": [
            "Trigonometric Sine   : [0.84147098 0.90929743 0.14112001]\n",
            "Trigonometric Cosine : [ 0.54030231 -0.41614684 -0.9899925 ]\n",
            "Trigonometric Tangent: [ 1.55740772 -2.18503986 -0.14254654]\n"
          ]
        }
      ]
    },
    {
      "cell_type": "code",
      "source": [
        "# Round to given number of decimals using the np.round_() method:\n",
        "a = np.linspace(1, 2, 5)\n",
        "np.round_(a, 2) # 2 decimal places"
      ],
      "metadata": {
        "colab": {
          "base_uri": "https://localhost:8080/"
        },
        "id": "Y51nZSe0IGyn",
        "outputId": "9ccd7779-68ab-48d7-ea23-6d2a3e7d4143"
      },
      "execution_count": 86,
      "outputs": [
        {
          "output_type": "execute_result",
          "data": {
            "text/plain": [
              "array([1.  , 1.25, 1.5 , 1.75, 2.  ])"
            ]
          },
          "metadata": {},
          "execution_count": 86
        }
      ]
    },
    {
      "cell_type": "code",
      "source": [
        "# Return the element-wise floor using the np.floor() method.\n",
        "np.floor(a)"
      ],
      "metadata": {
        "colab": {
          "base_uri": "https://localhost:8080/"
        },
        "id": "Xyo7auDWJGG4",
        "outputId": "69f8fe5b-b8be-4645-bb44-c6b3116336c8"
      },
      "execution_count": 87,
      "outputs": [
        {
          "output_type": "execute_result",
          "data": {
            "text/plain": [
              "array([1., 1., 1., 1., 2.])"
            ]
          },
          "metadata": {},
          "execution_count": 87
        }
      ]
    },
    {
      "cell_type": "code",
      "source": [
        "# Return the element-wise ceiling using the np.ceil() method.\n",
        "np.ceil(a)"
      ],
      "metadata": {
        "colab": {
          "base_uri": "https://localhost:8080/"
        },
        "id": "gNbRl_CzIG3f",
        "outputId": "bdab372a-6036-4a44-ad47-98c999d18ab0"
      },
      "execution_count": 88,
      "outputs": [
        {
          "output_type": "execute_result",
          "data": {
            "text/plain": [
              "array([1., 2., 2., 2., 2.])"
            ]
          },
          "metadata": {},
          "execution_count": 88
        }
      ]
    },
    {
      "cell_type": "code",
      "source": [
        "# Round to nearest integer using the np.rint() method.\n",
        "np.rint(a)"
      ],
      "metadata": {
        "colab": {
          "base_uri": "https://localhost:8080/"
        },
        "id": "NaCxcdymIG4v",
        "outputId": "0ade7ee3-1919-4024-e578-0ca4cea7bfb2"
      },
      "execution_count": 89,
      "outputs": [
        {
          "output_type": "execute_result",
          "data": {
            "text/plain": [
              "array([1., 1., 2., 2., 2.])"
            ]
          },
          "metadata": {},
          "execution_count": 89
        }
      ]
    },
    {
      "cell_type": "code",
      "source": [
        "# Calculate the element-wise exponential using the np.exp() method.\n",
        "# Calculate the element-wise natural logarithm using the np.log() method."
      ],
      "metadata": {
        "id": "5QpD3hb5J80P"
      },
      "execution_count": 90,
      "outputs": []
    },
    {
      "cell_type": "code",
      "source": [
        "# Exponents and logarithms\n",
        "a = np.arange(1, 6)\n",
        "a"
      ],
      "metadata": {
        "colab": {
          "base_uri": "https://localhost:8080/"
        },
        "id": "RViVXn6_J60o",
        "outputId": "c9de3afb-f564-4c1c-f615-e8721ee852a9"
      },
      "execution_count": 91,
      "outputs": [
        {
          "output_type": "execute_result",
          "data": {
            "text/plain": [
              "array([1, 2, 3, 4, 5])"
            ]
          },
          "metadata": {},
          "execution_count": 91
        }
      ]
    },
    {
      "cell_type": "code",
      "source": [
        "np.exp(a).round(2)"
      ],
      "metadata": {
        "colab": {
          "base_uri": "https://localhost:8080/"
        },
        "id": "g5oewCnHJ8_-",
        "outputId": "0dad0b81-0ec8-4eb7-b567-9b46c3919811"
      },
      "execution_count": 92,
      "outputs": [
        {
          "output_type": "execute_result",
          "data": {
            "text/plain": [
              "array([  2.72,   7.39,  20.09,  54.6 , 148.41])"
            ]
          },
          "metadata": {},
          "execution_count": 92
        }
      ]
    },
    {
      "cell_type": "code",
      "source": [
        "np.log(a).round(2)"
      ],
      "metadata": {
        "colab": {
          "base_uri": "https://localhost:8080/"
        },
        "id": "93_SYaDcJ9Bk",
        "outputId": "97aa729c-9171-43f2-f6b9-aeb1bd23d638"
      },
      "execution_count": 93,
      "outputs": [
        {
          "output_type": "execute_result",
          "data": {
            "text/plain": [
              "array([0.  , 0.69, 1.1 , 1.39, 1.61])"
            ]
          },
          "metadata": {},
          "execution_count": 93
        }
      ]
    },
    {
      "cell_type": "code",
      "source": [
        "# Sum and Product\n",
        "# Use the np.sum() method to calculate the sum of array elements\n",
        "# Use the np.prod() method to calculate the product of array elements:"
      ],
      "metadata": {
        "id": "Z7HDWQdAJ9Cf"
      },
      "execution_count": null,
      "outputs": []
    },
    {
      "cell_type": "code",
      "source": [
        "a = np.array([[1, 2], [3, 4]])\n",
        "np.sum(a)"
      ],
      "metadata": {
        "colab": {
          "base_uri": "https://localhost:8080/"
        },
        "id": "5lddfe6oJ9D4",
        "outputId": "bd729f58-2b02-4a82-c316-a4610e34c63c"
      },
      "execution_count": 94,
      "outputs": [
        {
          "output_type": "execute_result",
          "data": {
            "text/plain": [
              "10"
            ]
          },
          "metadata": {},
          "execution_count": 94
        }
      ]
    },
    {
      "cell_type": "code",
      "source": [
        "np.sum(a, axis = 0)"
      ],
      "metadata": {
        "colab": {
          "base_uri": "https://localhost:8080/"
        },
        "id": "6LgNqfsUJ9Fk",
        "outputId": "c84dc65c-034d-4b01-abe3-3f3d9b67ed53"
      },
      "execution_count": 95,
      "outputs": [
        {
          "output_type": "execute_result",
          "data": {
            "text/plain": [
              "array([4, 6])"
            ]
          },
          "metadata": {},
          "execution_count": 95
        }
      ]
    },
    {
      "cell_type": "code",
      "source": [
        "np.sum(a, axis = 1)"
      ],
      "metadata": {
        "colab": {
          "base_uri": "https://localhost:8080/"
        },
        "id": "namXGiMLJ9M-",
        "outputId": "2bf4b898-af32-46bf-e577-6ce69e975638"
      },
      "execution_count": 96,
      "outputs": [
        {
          "output_type": "execute_result",
          "data": {
            "text/plain": [
              "array([3, 7])"
            ]
          },
          "metadata": {},
          "execution_count": 96
        }
      ]
    },
    {
      "cell_type": "code",
      "source": [
        "np.prod(a)"
      ],
      "metadata": {
        "colab": {
          "base_uri": "https://localhost:8080/"
        },
        "id": "cAFLfOzzJ9PD",
        "outputId": "bf64f996-bf66-4e12-8dba-2d89c6701fce"
      },
      "execution_count": 97,
      "outputs": [
        {
          "output_type": "execute_result",
          "data": {
            "text/plain": [
              "24"
            ]
          },
          "metadata": {},
          "execution_count": 97
        }
      ]
    },
    {
      "cell_type": "code",
      "source": [
        " np.prod(a, axis = 0)"
      ],
      "metadata": {
        "colab": {
          "base_uri": "https://localhost:8080/"
        },
        "id": "qKS_XxfLJ9RI",
        "outputId": "bf1c4eb0-d117-4790-801c-20d320185fe3"
      },
      "execution_count": 98,
      "outputs": [
        {
          "output_type": "execute_result",
          "data": {
            "text/plain": [
              "array([3, 8])"
            ]
          },
          "metadata": {},
          "execution_count": 98
        }
      ]
    },
    {
      "cell_type": "code",
      "source": [
        " np.prod(a, axis = 1)"
      ],
      "metadata": {
        "colab": {
          "base_uri": "https://localhost:8080/"
        },
        "id": "nvxCFaDJJ9VV",
        "outputId": "96b604ee-a551-4ab1-9fd9-d7db9016c8de"
      },
      "execution_count": 99,
      "outputs": [
        {
          "output_type": "execute_result",
          "data": {
            "text/plain": [
              "array([ 2, 12])"
            ]
          },
          "metadata": {},
          "execution_count": 99
        }
      ]
    },
    {
      "cell_type": "code",
      "source": [
        "# Square Root\n",
        "np.sqrt(a)"
      ],
      "metadata": {
        "colab": {
          "base_uri": "https://localhost:8080/"
        },
        "id": "jzgmTpIYLCkk",
        "outputId": "d3fce644-60d0-4899-a4b9-135bc98dee0e"
      },
      "execution_count": 100,
      "outputs": [
        {
          "output_type": "execute_result",
          "data": {
            "text/plain": [
              "array([[1.        , 1.41421356],\n",
              "       [1.73205081, 2.        ]])"
            ]
          },
          "metadata": {},
          "execution_count": 100
        }
      ]
    },
    {
      "cell_type": "markdown",
      "source": [
        "***Matrix and Vector Operations***"
      ],
      "metadata": {
        "id": "atDWv6amLNnN"
      }
    },
    {
      "cell_type": "code",
      "source": [
        "# 1: Dot Product\n",
        "# If you want to calculate the dot product of two NumPy arrays, use the np.dot() method:"
      ],
      "metadata": {
        "id": "juWJKCRfLCuI"
      },
      "execution_count": 101,
      "outputs": []
    },
    {
      "cell_type": "code",
      "source": [
        "a = np.array([[1, 2], [3, 4]])\n",
        "b = np.array([[1, 1], [1, 1]])\n",
        "np.dot(a, b)"
      ],
      "metadata": {
        "colab": {
          "base_uri": "https://localhost:8080/"
        },
        "id": "8WB1KWMlLCxU",
        "outputId": "f56e5cfb-7190-4be8-9ac7-63f31e910c83"
      },
      "execution_count": 102,
      "outputs": [
        {
          "output_type": "execute_result",
          "data": {
            "text/plain": [
              "array([[3, 3],\n",
              "       [7, 7]])"
            ]
          },
          "metadata": {},
          "execution_count": 102
        }
      ]
    },
    {
      "cell_type": "code",
      "source": [
        "# 2: Matrix Product\n",
        "# To calculate the matrix product of two NumPy arrays, use thenp.matmul() or the @ operator in Python:"
      ],
      "metadata": {
        "id": "uCh75cazLCz0"
      },
      "execution_count": 103,
      "outputs": []
    },
    {
      "cell_type": "code",
      "source": [
        "a = np.array([[1, 2], [3, 4]])\n",
        "b = np.array([[1, 1], [1, 1]])\n"
      ],
      "metadata": {
        "id": "OHQqeFrCLC20"
      },
      "execution_count": 104,
      "outputs": []
    },
    {
      "cell_type": "code",
      "source": [
        "np.matmul(a, b)"
      ],
      "metadata": {
        "colab": {
          "base_uri": "https://localhost:8080/"
        },
        "id": "553o-XbhLC4t",
        "outputId": "8e7ce5aa-3f11-4347-f569-a5a127658724"
      },
      "execution_count": 105,
      "outputs": [
        {
          "output_type": "execute_result",
          "data": {
            "text/plain": [
              "array([[3, 3],\n",
              "       [7, 7]])"
            ]
          },
          "metadata": {},
          "execution_count": 105
        }
      ]
    },
    {
      "cell_type": "code",
      "source": [
        "a@b"
      ],
      "metadata": {
        "colab": {
          "base_uri": "https://localhost:8080/"
        },
        "id": "FrvTqnNPLC7A",
        "outputId": "b44826a3-9915-4ccc-b4c2-95c80e487aad"
      },
      "execution_count": 106,
      "outputs": [
        {
          "output_type": "execute_result",
          "data": {
            "text/plain": [
              "array([[3, 3],\n",
              "       [7, 7]])"
            ]
          },
          "metadata": {},
          "execution_count": 106
        }
      ]
    },
    {
      "cell_type": "code",
      "source": [
        "# 3/n: Vector Norm\n",
        "# Vector norms represent a set of functions used to measure a vector’s length\n",
        "# Use the np.linalg.norm() method to find the matrix or vector norm:"
      ],
      "metadata": {
        "id": "stATzNcRLC9T"
      },
      "execution_count": null,
      "outputs": []
    },
    {
      "cell_type": "code",
      "source": [
        "a = np.arange(-4, 5)\n",
        "a"
      ],
      "metadata": {
        "colab": {
          "base_uri": "https://localhost:8080/"
        },
        "id": "iXEB5fTLMHBB",
        "outputId": "a31cad71-4d29-4163-d64d-5bb00138a9b0"
      },
      "execution_count": 108,
      "outputs": [
        {
          "output_type": "execute_result",
          "data": {
            "text/plain": [
              "array([-4, -3, -2, -1,  0,  1,  2,  3,  4])"
            ]
          },
          "metadata": {},
          "execution_count": 108
        }
      ]
    },
    {
      "cell_type": "code",
      "source": [
        "np.linalg.norm(a) ## L2 Norm"
      ],
      "metadata": {
        "colab": {
          "base_uri": "https://localhost:8080/"
        },
        "id": "2P9hyrkYMHED",
        "outputId": "2141544d-acbd-44ef-a972-b186aadb4090"
      },
      "execution_count": 109,
      "outputs": [
        {
          "output_type": "execute_result",
          "data": {
            "text/plain": [
              "7.745966692414834"
            ]
          },
          "metadata": {},
          "execution_count": 109
        }
      ]
    },
    {
      "cell_type": "code",
      "source": [
        "np.linalg.norm(a, 1) ## L1 Norm"
      ],
      "metadata": {
        "colab": {
          "base_uri": "https://localhost:8080/"
        },
        "id": "zNZCMcdLMHHH",
        "outputId": "e44fc0e5-eddb-4f06-cf4f-63e86dc8785a"
      },
      "execution_count": 110,
      "outputs": [
        {
          "output_type": "execute_result",
          "data": {
            "text/plain": [
              "20.0"
            ]
          },
          "metadata": {},
          "execution_count": 110
        }
      ]
    },
    {
      "cell_type": "markdown",
      "source": [
        "***Sorting Methods***"
      ],
      "metadata": {
        "id": "P6QfgE-ZM-83"
      }
    },
    {
      "cell_type": "code",
      "source": [
        "# To sort the array in-place, use the ndarray.sort() method.\n",
        "a = np.array([[1,4],[3,1]])\n",
        "a"
      ],
      "metadata": {
        "colab": {
          "base_uri": "https://localhost:8080/"
        },
        "id": "dIgGdHHGMHKD",
        "outputId": "d454a4a2-362f-400a-ac41-dd36ce46917a"
      },
      "execution_count": 111,
      "outputs": [
        {
          "output_type": "execute_result",
          "data": {
            "text/plain": [
              "array([[1, 4],\n",
              "       [3, 1]])"
            ]
          },
          "metadata": {},
          "execution_count": 111
        }
      ]
    },
    {
      "cell_type": "code",
      "source": [
        "np.sort(a, axis=None)"
      ],
      "metadata": {
        "colab": {
          "base_uri": "https://localhost:8080/"
        },
        "id": "Xg8GEhRsMHOS",
        "outputId": "5072d9b4-da9a-434a-b208-b6011b9bf7f4"
      },
      "execution_count": 112,
      "outputs": [
        {
          "output_type": "execute_result",
          "data": {
            "text/plain": [
              "array([1, 1, 3, 4])"
            ]
          },
          "metadata": {},
          "execution_count": 112
        }
      ]
    },
    {
      "cell_type": "code",
      "source": [
        "np.sort(a, axis=0)"
      ],
      "metadata": {
        "colab": {
          "base_uri": "https://localhost:8080/"
        },
        "id": "ZvhWtcgeMHQi",
        "outputId": "ec164187-8bfa-49b2-ade6-04c756db4599"
      },
      "execution_count": 113,
      "outputs": [
        {
          "output_type": "execute_result",
          "data": {
            "text/plain": [
              "array([[1, 1],\n",
              "       [3, 4]])"
            ]
          },
          "metadata": {},
          "execution_count": 113
        }
      ]
    },
    {
      "cell_type": "code",
      "source": [
        "# Order of Indices in a Sorted NumPy Array"
      ],
      "metadata": {
        "id": "DuAAd9R6NZ1j"
      },
      "execution_count": null,
      "outputs": []
    },
    {
      "cell_type": "code",
      "source": [
        "x = np.array([3, 1, 2])\n",
        "np.argsort(x)"
      ],
      "metadata": {
        "colab": {
          "base_uri": "https://localhost:8080/"
        },
        "id": "rYetvmLdNZ42",
        "outputId": "090c6b48-9e3a-41fc-e009-7a8a201c2b0a"
      },
      "execution_count": 114,
      "outputs": [
        {
          "output_type": "execute_result",
          "data": {
            "text/plain": [
              "array([1, 2, 0])"
            ]
          },
          "metadata": {},
          "execution_count": 114
        }
      ]
    },
    {
      "cell_type": "markdown",
      "source": [
        "***Searching Methods***"
      ],
      "metadata": {
        "id": "e7fVwDMuNjxd"
      }
    },
    {
      "cell_type": "code",
      "source": [
        "d = np.random.randint(1, 20, 10).reshape(2,5)\n",
        "d"
      ],
      "metadata": {
        "colab": {
          "base_uri": "https://localhost:8080/"
        },
        "id": "-NeHuiRCNZ7w",
        "outputId": "352fb82f-3910-4711-edd2-44ed8c929267"
      },
      "execution_count": 115,
      "outputs": [
        {
          "output_type": "execute_result",
          "data": {
            "text/plain": [
              "array([[11, 16, 10,  8,  4],\n",
              "       [11, 17,  7, 19, 18]])"
            ]
          },
          "metadata": {},
          "execution_count": 115
        }
      ]
    },
    {
      "cell_type": "code",
      "source": [
        "np.argmax(d)"
      ],
      "metadata": {
        "colab": {
          "base_uri": "https://localhost:8080/"
        },
        "id": "W_gm7a_6NZ_G",
        "outputId": "045e1fed-0d24-4018-c936-7d04f5a16096"
      },
      "execution_count": 116,
      "outputs": [
        {
          "output_type": "execute_result",
          "data": {
            "text/plain": [
              "8"
            ]
          },
          "metadata": {},
          "execution_count": 116
        }
      ]
    },
    {
      "cell_type": "code",
      "source": [
        "np.argmax(d, axis=0)"
      ],
      "metadata": {
        "colab": {
          "base_uri": "https://localhost:8080/"
        },
        "id": "LOrKWNuoNaCr",
        "outputId": "2d27ecbf-c273-4e28-e407-4905c1f45cd9"
      },
      "execution_count": 117,
      "outputs": [
        {
          "output_type": "execute_result",
          "data": {
            "text/plain": [
              "array([0, 1, 0, 1, 1])"
            ]
          },
          "metadata": {},
          "execution_count": 117
        }
      ]
    },
    {
      "cell_type": "code",
      "source": [
        "np.argmax(d, axis=1)"
      ],
      "metadata": {
        "colab": {
          "base_uri": "https://localhost:8080/"
        },
        "id": "yYPn1Cn6NaGK",
        "outputId": "a9b226c3-bdf3-41b5-a67c-799e34541fa5"
      },
      "execution_count": 118,
      "outputs": [
        {
          "output_type": "execute_result",
          "data": {
            "text/plain": [
              "array([1, 3])"
            ]
          },
          "metadata": {},
          "execution_count": 118
        }
      ]
    },
    {
      "cell_type": "code",
      "source": [
        "# Indices corresponding to Minimum Values"
      ],
      "metadata": {
        "id": "oO1J2VGuNaIk"
      },
      "execution_count": null,
      "outputs": []
    },
    {
      "cell_type": "code",
      "source": [
        " a = np.random.randint(1, 20, 10).reshape(2,5)\n",
        " a"
      ],
      "metadata": {
        "colab": {
          "base_uri": "https://localhost:8080/"
        },
        "id": "lrLDAM9nNaLK",
        "outputId": "c83a79b9-3bdc-49d8-91a4-79d8254885d4"
      },
      "execution_count": 119,
      "outputs": [
        {
          "output_type": "execute_result",
          "data": {
            "text/plain": [
              "array([[ 8,  6, 10, 15, 10],\n",
              "       [10, 15, 18,  1, 11]])"
            ]
          },
          "metadata": {},
          "execution_count": 119
        }
      ]
    },
    {
      "cell_type": "code",
      "source": [
        "np.argmin(a)"
      ],
      "metadata": {
        "colab": {
          "base_uri": "https://localhost:8080/"
        },
        "id": "OVIgDEC6NaNt",
        "outputId": "f558776d-b5c6-4c0f-b590-532877da0e5f"
      },
      "execution_count": 120,
      "outputs": [
        {
          "output_type": "execute_result",
          "data": {
            "text/plain": [
              "8"
            ]
          },
          "metadata": {},
          "execution_count": 120
        }
      ]
    },
    {
      "cell_type": "code",
      "source": [
        "np.argmin(a, axis=0)"
      ],
      "metadata": {
        "colab": {
          "base_uri": "https://localhost:8080/"
        },
        "id": "R2mtfL0xNaQY",
        "outputId": "79b6cb78-c257-4c89-8cc2-ae04460f4e6b"
      },
      "execution_count": 121,
      "outputs": [
        {
          "output_type": "execute_result",
          "data": {
            "text/plain": [
              "array([0, 0, 0, 1, 0])"
            ]
          },
          "metadata": {},
          "execution_count": 121
        }
      ]
    },
    {
      "cell_type": "code",
      "source": [
        "np.argmin(a, axis=1)"
      ],
      "metadata": {
        "colab": {
          "base_uri": "https://localhost:8080/"
        },
        "id": "naDFeUUnNaTB",
        "outputId": "911ce5c9-dff5-4b08-83d0-067ee73df2e4"
      },
      "execution_count": 122,
      "outputs": [
        {
          "output_type": "execute_result",
          "data": {
            "text/plain": [
              "array([1, 3])"
            ]
          },
          "metadata": {},
          "execution_count": 122
        }
      ]
    },
    {
      "cell_type": "code",
      "source": [
        "# 3: Search based on condition\n",
        "# If you want to select between two arrays based on a condition, use the np.where() method as shown below:"
      ],
      "metadata": {
        "id": "jBPICiPmOK6g"
      },
      "execution_count": null,
      "outputs": []
    },
    {
      "cell_type": "code",
      "source": [
        "a = np.random.randint(-10, 10, 10)\n",
        "a"
      ],
      "metadata": {
        "colab": {
          "base_uri": "https://localhost:8080/"
        },
        "id": "i1K7f6x_OK-V",
        "outputId": "c000f25c-623c-40c8-ca45-8e8b4312d118"
      },
      "execution_count": 123,
      "outputs": [
        {
          "output_type": "execute_result",
          "data": {
            "text/plain": [
              "array([ -2,   0,  -3, -10,   8,   9,  -3,   1,   4,  -5])"
            ]
          },
          "metadata": {},
          "execution_count": 123
        }
      ]
    },
    {
      "cell_type": "code",
      "source": [
        "np.where(a < 0, 0, a)"
      ],
      "metadata": {
        "colab": {
          "base_uri": "https://localhost:8080/"
        },
        "id": "cbuEBE9UOLDg",
        "outputId": "643b85b5-162b-41b0-e782-80332135eff3"
      },
      "execution_count": 124,
      "outputs": [
        {
          "output_type": "execute_result",
          "data": {
            "text/plain": [
              "array([0, 0, 0, 0, 8, 9, 0, 1, 4, 0])"
            ]
          },
          "metadata": {},
          "execution_count": 124
        }
      ]
    },
    {
      "cell_type": "code",
      "source": [
        "# 4/n: Indices of Non-Zero Elements\n",
        "# To determine the indices of non-zero elements in a NumPy Array, use the np.nonzero() method:"
      ],
      "metadata": {
        "id": "IWiJoH4EOLHR"
      },
      "execution_count": null,
      "outputs": []
    },
    {
      "cell_type": "code",
      "source": [
        "a = np.array([[3, 0, 0], [0, 4, 0], [5, 6, 0]])\n",
        "np.nonzero(a)"
      ],
      "metadata": {
        "colab": {
          "base_uri": "https://localhost:8080/"
        },
        "id": "vGngxkJTOLwD",
        "outputId": "46df6196-6889-4a06-c3f8-56d3422da564"
      },
      "execution_count": 125,
      "outputs": [
        {
          "output_type": "execute_result",
          "data": {
            "text/plain": [
              "(array([0, 1, 2, 2]), array([0, 1, 0, 1]))"
            ]
          },
          "metadata": {},
          "execution_count": 125
        }
      ]
    },
    {
      "cell_type": "markdown",
      "source": [
        "***Statistical Methods***"
      ],
      "metadata": {
        "id": "ApLx1-8lPGsr"
      }
    },
    {
      "cell_type": "code",
      "source": [
        "# 1: Mean\n",
        "# To find the mean of the values in a numpy array along an axis, use the np.mean() method as demonstrated below:"
      ],
      "metadata": {
        "id": "3wvwhXfKOLxS"
      },
      "execution_count": null,
      "outputs": []
    },
    {
      "cell_type": "code",
      "source": [
        "a = np.array([[1, 2], [3, 4]])"
      ],
      "metadata": {
        "id": "7fTuJQiZOLzD"
      },
      "execution_count": 126,
      "outputs": []
    },
    {
      "cell_type": "code",
      "source": [
        "np.mean(a)"
      ],
      "metadata": {
        "colab": {
          "base_uri": "https://localhost:8080/"
        },
        "id": "d8jE8xvSOL0T",
        "outputId": "a07c8534-217b-430e-91ae-6f4f4edd340b"
      },
      "execution_count": 127,
      "outputs": [
        {
          "output_type": "execute_result",
          "data": {
            "text/plain": [
              "2.5"
            ]
          },
          "metadata": {},
          "execution_count": 127
        }
      ]
    },
    {
      "cell_type": "code",
      "source": [
        "np.mean(a, axis = 1)"
      ],
      "metadata": {
        "colab": {
          "base_uri": "https://localhost:8080/"
        },
        "id": "zv-P7zScOL1u",
        "outputId": "6103502d-dde0-414d-c7eb-25d5236e4af9"
      },
      "execution_count": 128,
      "outputs": [
        {
          "output_type": "execute_result",
          "data": {
            "text/plain": [
              "array([1.5, 3.5])"
            ]
          },
          "metadata": {},
          "execution_count": 128
        }
      ]
    },
    {
      "cell_type": "code",
      "source": [
        "np.mean(a, axis = 0)"
      ],
      "metadata": {
        "colab": {
          "base_uri": "https://localhost:8080/"
        },
        "id": "4XE1bf7nPQb9",
        "outputId": "cdccf4cb-9caa-45d2-ccc0-062c532761e9"
      },
      "execution_count": 129,
      "outputs": [
        {
          "output_type": "execute_result",
          "data": {
            "text/plain": [
              "array([2., 3.])"
            ]
          },
          "metadata": {},
          "execution_count": 129
        }
      ]
    },
    {
      "cell_type": "code",
      "source": [
        "# 2/n: Median\n",
        "# To compute the median of a numpy array, use the np.median() method."
      ],
      "metadata": {
        "id": "l-0AtU3bPQfC"
      },
      "execution_count": null,
      "outputs": []
    },
    {
      "cell_type": "code",
      "source": [
        "a = np.array([[1, 2], [3, 4]])"
      ],
      "metadata": {
        "id": "56dgzCeSPQjb"
      },
      "execution_count": 130,
      "outputs": []
    },
    {
      "cell_type": "code",
      "source": [
        "np.median(a)"
      ],
      "metadata": {
        "colab": {
          "base_uri": "https://localhost:8080/"
        },
        "id": "VYTWCSC3PmJ_",
        "outputId": "99eb8341-8a55-40b6-edd5-14d90e3a3d22"
      },
      "execution_count": 131,
      "outputs": [
        {
          "output_type": "execute_result",
          "data": {
            "text/plain": [
              "2.5"
            ]
          },
          "metadata": {},
          "execution_count": 131
        }
      ]
    },
    {
      "cell_type": "code",
      "source": [
        "np.median(a, axis = 1) ## along the row axis"
      ],
      "metadata": {
        "colab": {
          "base_uri": "https://localhost:8080/"
        },
        "id": "-Dz26vanPaVN",
        "outputId": "977c1bda-4b7e-4114-896a-dee32c7d12bf"
      },
      "execution_count": 132,
      "outputs": [
        {
          "output_type": "execute_result",
          "data": {
            "text/plain": [
              "array([1.5, 3.5])"
            ]
          },
          "metadata": {},
          "execution_count": 132
        }
      ]
    },
    {
      "cell_type": "code",
      "source": [
        "np.median(a, axis = 0) ## along the column axis"
      ],
      "metadata": {
        "colab": {
          "base_uri": "https://localhost:8080/"
        },
        "id": "Bw6W8YuPPaYX",
        "outputId": "11b9c0dc-d168-4377-84a4-07929b53a09d"
      },
      "execution_count": 133,
      "outputs": [
        {
          "output_type": "execute_result",
          "data": {
            "text/plain": [
              "array([2., 3.])"
            ]
          },
          "metadata": {},
          "execution_count": 133
        }
      ]
    },
    {
      "cell_type": "code",
      "source": [
        "# 3/n: Standard Deviation\n",
        "# To compute the standard deviation of a numpy array along a specified array, use the np.std() method."
      ],
      "metadata": {
        "id": "cqKn8-08Pab0"
      },
      "execution_count": null,
      "outputs": []
    },
    {
      "cell_type": "code",
      "source": [
        "a = np.array([[1, 2], [3, 4]])\n",
        "a\n"
      ],
      "metadata": {
        "colab": {
          "base_uri": "https://localhost:8080/"
        },
        "id": "AtNkuTyQPaew",
        "outputId": "e7ac826d-0221-4b67-b360-993e7ef3f6d4"
      },
      "execution_count": 134,
      "outputs": [
        {
          "output_type": "execute_result",
          "data": {
            "text/plain": [
              "array([[1, 2],\n",
              "       [3, 4]])"
            ]
          },
          "metadata": {},
          "execution_count": 134
        }
      ]
    },
    {
      "cell_type": "code",
      "source": [
        "np.std(a)"
      ],
      "metadata": {
        "colab": {
          "base_uri": "https://localhost:8080/"
        },
        "id": "XY6l5mDmPahj",
        "outputId": "85921a92-6404-4c88-d8f2-6b2f8a2104c5"
      },
      "execution_count": 135,
      "outputs": [
        {
          "output_type": "execute_result",
          "data": {
            "text/plain": [
              "1.118033988749895"
            ]
          },
          "metadata": {},
          "execution_count": 135
        }
      ]
    },
    {
      "cell_type": "code",
      "source": [
        "np.std(a, axis = 1) ## along the row axis"
      ],
      "metadata": {
        "colab": {
          "base_uri": "https://localhost:8080/"
        },
        "id": "fNrppNn-QTFr",
        "outputId": "bb09505e-e03f-4419-af76-507b53386e8c"
      },
      "execution_count": 136,
      "outputs": [
        {
          "output_type": "execute_result",
          "data": {
            "text/plain": [
              "array([0.5, 0.5])"
            ]
          },
          "metadata": {},
          "execution_count": 136
        }
      ]
    },
    {
      "cell_type": "code",
      "source": [
        "np.std(a, axis = 0) ## along the column axis"
      ],
      "metadata": {
        "colab": {
          "base_uri": "https://localhost:8080/"
        },
        "id": "LF8GnCi2QTP4",
        "outputId": "4fec5413-ca36-4cc9-adac-d20bcbe43f88"
      },
      "execution_count": 137,
      "outputs": [
        {
          "output_type": "execute_result",
          "data": {
            "text/plain": [
              "array([1., 1.])"
            ]
          },
          "metadata": {},
          "execution_count": 137
        }
      ]
    },
    {
      "cell_type": "code",
      "source": [
        ""
      ],
      "metadata": {
        "id": "kzXnUSpTQTSm"
      },
      "execution_count": 137,
      "outputs": []
    },
    {
      "cell_type": "code",
      "source": [
        ""
      ],
      "metadata": {
        "id": "d978xSfNQTVH"
      },
      "execution_count": 137,
      "outputs": []
    }
  ]
}